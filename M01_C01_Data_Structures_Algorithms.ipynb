{
  "nbformat": 4,
  "nbformat_minor": 0,
  "metadata": {
    "colab": {
      "provenance": []
    },
    "kernelspec": {
      "name": "python3",
      "display_name": "Python 3"
    },
    "language_info": {
      "name": "python"
    }
  },
  "cells": [
    {
      "cell_type": "markdown",
      "source": [],
      "metadata": {
        "id": "XvAAboXLhjBV"
      }
    },
    {
      "cell_type": "code",
      "execution_count": null,
      "metadata": {
        "id": "snpmKdqxgC6m"
      },
      "outputs": [],
      "source": [
        "import pandas as pd\n",
        "import numpy as np"
      ]
    },
    {
      "cell_type": "code",
      "source": [
        "# RIL stock price on day 1 and day 3; for this we can use list\n",
        "stock_price = [2804,2856,2795,2812,2875]\n",
        "print(f\"Stock Price on Day 1 INR {stock_price[0]} and Day 3 is INR {stock_price[2]}\")\n",
        "\n",
        "# RIL stock price on Apr 2 and Apr 4; for this we need to use Dictionaries which wirks key value pair, like a Hash Map\n",
        "stock_price_date = {\n",
        "                    'Apr 2': 2804,\n",
        "                    'Apr 3': 2856,\n",
        "                    'Apr 4': 2795,\n",
        "                    'Apr 5': 2812,\n",
        "                    'Apr 6': 2875\n",
        "                    }\n",
        "print(f\"Stock Price on Apr 2 is INR {stock_price_date['Apr 2']} and Apr 4 is INR {stock_price_date['Apr 4']}\")\n",
        "\n",
        "# {DS-->python} Array--> List and Hash Table --> Dictionary"
      ],
      "metadata": {
        "colab": {
          "base_uri": "https://localhost:8080/"
        },
        "id": "CYBMdGDbhsZS",
        "outputId": "ba3ddd38-ef28-49df-e7e4-5081f283bc97"
      },
      "execution_count": null,
      "outputs": [
        {
          "output_type": "stream",
          "name": "stdout",
          "text": [
            "Stock Price on Day 1 INR 2804 and Day 3 is INR 2795\n",
            "Stock Price on Apr 2 is INR 2804 and Apr 4 is INR 2795\n"
          ]
        }
      ]
    },
    {
      "cell_type": "markdown",
      "source": [
        "Big O notation is used to measure how running time or space requirement of your programe grows as input grows"
      ],
      "metadata": {
        "id": "ar-mtF5Als12"
      }
    },
    {
      "cell_type": "code",
      "source": [
        "# Scenario 1: The running time increaases as the number of variables, O(n)=a*n + b, time increase as n increase.\n",
        "# So the Big O for the scenario is O(n), as the it will n computation as in the squared_number function\n",
        "\n",
        "def squared_number(lst):\n",
        "  squared_lst=[]\n",
        "  for i in lst:\n",
        "    squared_lst.append(i*i)\n",
        "  return squared_lst\n",
        "\n",
        "lst = [2,4,6,8]\n",
        "print(squared_number(lst))\n",
        "\n",
        "# Scenario 2: Let suppose we are getting a sales number of n stores in desending order, and out system is to show he % contribution of the first store (which is maximum),\n",
        "# in this Scenario the the Big O is O(1) as this dos't depend if the number of stores are 10 or 10000, the code with do only 1 computation.\n",
        "\n",
        "def max_contribution(lst):\n",
        "  lst.sort()\n",
        "  return lst[0]/sum(lst)\n",
        "\n",
        "sales_inK = [30,50,60,40]\n",
        "print(f\"{max_contribution(sales_inK):.2%}\")\n",
        "\n",
        "\n",
        "# Scenario 3: Finding duplicate from a list, in this all the item in list will compaired with n-1 items, so almost the computation will nXn\n",
        "# in this Scenario the the Big O is O(n^2)\n",
        "\n",
        "lst_number = [3,6,2,4,3,6,8,9]\n",
        "\n",
        "for i in range(len(lst_number)):\n",
        "  for j in range(i+1, len(lst_number)):\n",
        "    if lst_number[i] == lst_number[j]:\n",
        "      print(f\"{lst_number[i]} is a duplicate\")\n",
        "      break\n",
        "\n",
        "\n",
        "# Scenario 4: Lets find the Big O for Binary search. So Iteration for Binary search of k size will be n/(2^k) to get the array size to 1 as that will be our worst case.\n",
        "# 1=n/(2^k) ==> n=2^k ==> {applyng log2 to both side} log2n=log2(2^k) ==>log2n=k(log2(2)) ==> k = log2n ; which means Big O for Binary search is O(log n)\n",
        "# example for K=8 the maximum iteration required is 3.\n",
        "def binary_search(arr, x):\n",
        "    low = 0\n",
        "    high = len(arr) - 1\n",
        "    mid = 0\n",
        "    while low <= high:\n",
        "        mid = (high + low) // 2\n",
        "        if arr[mid] < x:\n",
        "            low = mid + 1\n",
        "        elif arr[mid] > x:\n",
        "            high = mid - 1\n",
        "        else:\n",
        "            return mid\n",
        "    return -1\n",
        "\n",
        "arr = [8,9,11,7,2,3,4,10,40]\n",
        "arr.sort()\n",
        "x = 10\n",
        "print(\"Element is present at index\", binary_search(arr, x))"
      ],
      "metadata": {
        "colab": {
          "base_uri": "https://localhost:8080/"
        },
        "id": "bRratEy4lcrW",
        "outputId": "955317bb-e24a-4033-a55d-7d606f3e5b92"
      },
      "execution_count": null,
      "outputs": [
        {
          "output_type": "stream",
          "name": "stdout",
          "text": [
            "[4, 16, 36, 64]\n",
            "16.67%\n",
            "3 is a duplicate\n",
            "6 is a duplicate\n",
            "Element is present at index 6\n"
          ]
        }
      ]
    },
    {
      "cell_type": "code",
      "source": [
        "# Array in Python example; Let us say your expense for every month are January - 22000 ; February - 23500 ; March - 26000 ; April - 21300 ; May - 21900\n",
        "\n",
        "month_exp = [22000,23500,26000,21300,21900]\n",
        "\n",
        "# 1. In Feb, how many INR you spent extra compare to January?\n",
        "print(f\"In Feb, I spend INR {month_exp[1]-month_exp[0]} extra\")\n",
        "\n",
        "# 2. Find out your total expense in first quarter (first three months) of the year.\n",
        "print(f\"Total expence in first quarter, is INR {sum(month_exp[0:3])}\")\n",
        "\n",
        "# 3. Find out if you spent exactly 21000 INR in any month\n",
        "print(f\"If you spent exactly 21000 INR: {21000 in month_exp}\")\n",
        "\n",
        "# 4. June month just finished and your expense is 19800 INR. Add this item to our monthly expense list\n",
        "month_exp.append(19800)\n",
        "print(month_exp)\n",
        "\n",
        "# 5. You returned an item that you bought in a month of April and got a refund of 1500 INR. Make a correction to your monthly expense list based on this\n",
        "month_exp[3] = month_exp[3] - 1500\n",
        "print(month_exp)"
      ],
      "metadata": {
        "colab": {
          "base_uri": "https://localhost:8080/"
        },
        "id": "ZWsmR7upyuFD",
        "outputId": "cc2666ee-51e1-47c1-96aa-0471f15e5f3b"
      },
      "execution_count": null,
      "outputs": [
        {
          "output_type": "stream",
          "name": "stdout",
          "text": [
            "In Feb, I spend INR 1500 extra\n",
            "Total expence in first quarter, is INR 71500\n",
            "If you spent exactly 21000 INR: False\n",
            "[22000, 23500, 26000, 21300, 21900, 19800]\n",
            "[22000, 23500, 26000, 19800, 21900, 19800]\n"
          ]
        }
      ]
    }
  ]
}
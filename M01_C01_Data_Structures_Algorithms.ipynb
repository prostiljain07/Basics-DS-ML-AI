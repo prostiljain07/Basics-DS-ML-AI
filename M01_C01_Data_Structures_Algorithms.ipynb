{
  "nbformat": 4,
  "nbformat_minor": 0,
  "metadata": {
    "colab": {
      "provenance": []
    },
    "kernelspec": {
      "name": "python3",
      "display_name": "Python 3"
    },
    "language_info": {
      "name": "python"
    }
  },
  "cells": [
    {
      "cell_type": "markdown",
      "source": [
        "# Data Structures & Algorithms"
      ],
      "metadata": {
        "id": "XvAAboXLhjBV"
      }
    },
    {
      "cell_type": "code",
      "execution_count": 21,
      "metadata": {
        "id": "snpmKdqxgC6m"
      },
      "outputs": [],
      "source": [
        "import pandas as pd\n",
        "import numpy as np"
      ]
    },
    {
      "cell_type": "code",
      "source": [
        "# RIL stock price on day 1 and day 3; for this we can use list\n",
        "stock_price = [2804,2856,2795,2812,2875]\n",
        "print(f\"Stock Price on Day 1 INR {stock_price[0]} and Day 3 is INR {stock_price[2]}\")\n",
        "\n",
        "# RIL stock price on Apr 2 and Apr 4; for this we need to use Dictionaries which wirks key value pair, like a Hash Map\n",
        "stock_price_date = {\n",
        "                    'Apr 2': 2804,\n",
        "                    'Apr 3': 2856,\n",
        "                    'Apr 4': 2795,\n",
        "                    'Apr 5': 2812,\n",
        "                    'Apr 6': 2875\n",
        "                    }\n",
        "print(f\"Stock Price on Apr 2 is INR {stock_price_date['Apr 2']} and Apr 4 is INR {stock_price_date['Apr 4']}\")\n",
        "\n",
        "# {DS-->python} Array--> List and Hash Table --> Dictionary"
      ],
      "metadata": {
        "colab": {
          "base_uri": "https://localhost:8080/"
        },
        "id": "CYBMdGDbhsZS",
        "outputId": "917c3f54-3abd-435b-faa6-d79d7aa9072a"
      },
      "execution_count": 22,
      "outputs": [
        {
          "output_type": "stream",
          "name": "stdout",
          "text": [
            "Stock Price on Day 1 INR 2804 and Day 3 is INR 2795\n",
            "Stock Price on Apr 2 is INR 2804 and Apr 4 is INR 2795\n"
          ]
        }
      ]
    },
    {
      "cell_type": "markdown",
      "source": [
        "Big O notation is used to measure how running time or space requirement of your programe grows as input grows\n",
        "\n",
        "https://www.bigocheatsheet.com/"
      ],
      "metadata": {
        "id": "ar-mtF5Als12"
      }
    },
    {
      "cell_type": "code",
      "source": [
        "# Scenario 1: The running time increaases as the number of variables, O(n)=a*n + b, time increase as n increase.\n",
        "# So the Big O for the scenario is O(n), as the it will n computation as in the squared_number function\n",
        "\n",
        "def squared_number(lst):\n",
        "  squared_lst=[]\n",
        "  for i in lst:\n",
        "    squared_lst.append(i*i)\n",
        "  return squared_lst\n",
        "\n",
        "lst = [2,4,6,8]\n",
        "print(squared_number(lst))\n",
        "\n",
        "# Scenario 2: Let suppose we are getting a sales number of n stores in desending order, and out system is to show he % contribution of the first store (which is maximum),\n",
        "# in this Scenario the the Big O is O(1) as this dos't depend if the number of stores are 10 or 10000, the code with do only 1 computation.\n",
        "\n",
        "def max_contribution(lst):\n",
        "  lst.sort()\n",
        "  return lst[0]/sum(lst)\n",
        "\n",
        "sales_inK = [30,50,60,40]\n",
        "print(f\"{max_contribution(sales_inK):.2%}\")\n",
        "\n",
        "\n",
        "# Scenario 3: Finding duplicate from a list, in this all the item in list will compaired with n-1 items, so almost the computation will nXn\n",
        "# in this Scenario the the Big O is O(n^2)\n",
        "\n",
        "lst_number = [3,6,2,4,3,6,8,9]\n",
        "\n",
        "for i in range(len(lst_number)):\n",
        "  for j in range(i+1, len(lst_number)):\n",
        "    if lst_number[i] == lst_number[j]:\n",
        "      print(f\"{lst_number[i]} is a duplicate\")\n",
        "      break\n",
        "\n",
        "\n",
        "# Scenario 4: Lets find the Big O for Binary search. So Iteration for Binary search of k size will be n/(2^k) to get the array size to 1 as that will be our worst case.\n",
        "# 1=n/(2^k) ==> n=2^k ==> {applyng log2 to both side} log2n=log2(2^k) ==>log2n=k(log2(2)) ==> k = log2n ; which means Big O for Binary search is O(log n)\n",
        "# example for K=8 the maximum iteration required is 3.\n",
        "def binary_search(arr, x):\n",
        "    low = 0\n",
        "    high = len(arr) - 1\n",
        "    mid = 0\n",
        "    while low <= high:\n",
        "        mid = (high + low) // 2\n",
        "        if arr[mid] < x:\n",
        "            low = mid + 1\n",
        "        elif arr[mid] > x:\n",
        "            high = mid - 1\n",
        "        else:\n",
        "            return mid\n",
        "    return -1\n",
        "\n",
        "arr = [8,9,11,7,2,3,4,10,40]\n",
        "arr.sort()\n",
        "x = 10\n",
        "print(\"Element is present at index\", binary_search(arr, x))"
      ],
      "metadata": {
        "colab": {
          "base_uri": "https://localhost:8080/"
        },
        "id": "bRratEy4lcrW",
        "outputId": "849aa701-ce4e-4f61-b8ab-2591ce9996e1"
      },
      "execution_count": 23,
      "outputs": [
        {
          "output_type": "stream",
          "name": "stdout",
          "text": [
            "[4, 16, 36, 64]\n",
            "16.67%\n",
            "3 is a duplicate\n",
            "6 is a duplicate\n",
            "Element is present at index 6\n"
          ]
        }
      ]
    },
    {
      "cell_type": "code",
      "source": [
        "# Array in Python example; Let us say your expense for every month are January - 22000 ; February - 23500 ; March - 26000 ; April - 21300 ; May - 21900\n",
        "\n",
        "month_exp = [22000,23500,26000,21300,21900]\n",
        "\n",
        "# 1. In Feb, how many INR you spent extra compare to January?\n",
        "print(f\"In Feb, I spend INR {month_exp[1]-month_exp[0]} extra\")\n",
        "\n",
        "# 2. Find out your total expense in first quarter (first three months) of the year.\n",
        "print(f\"Total expence in first quarter, is INR {sum(month_exp[0:3])}\")\n",
        "\n",
        "# 3. Find out if you spent exactly 21000 INR in any month\n",
        "print(f\"If you spent exactly 21000 INR: {21000 in month_exp}\")\n",
        "\n",
        "# 4. June month just finished and your expense is 19800 INR. Add this item to our monthly expense list\n",
        "month_exp.append(19800)\n",
        "print(month_exp)\n",
        "\n",
        "# 5. You returned an item that you bought in a month of April and got a refund of 1500 INR. Make a correction to your monthly expense list based on this\n",
        "month_exp[3] = month_exp[3] - 1500\n",
        "print(month_exp)"
      ],
      "metadata": {
        "colab": {
          "base_uri": "https://localhost:8080/"
        },
        "id": "ZWsmR7upyuFD",
        "outputId": "e7498a80-de65-4de4-b92c-8272759dc49d"
      },
      "execution_count": 24,
      "outputs": [
        {
          "output_type": "stream",
          "name": "stdout",
          "text": [
            "In Feb, I spend INR 1500 extra\n",
            "Total expence in first quarter, is INR 71500\n",
            "If you spent exactly 21000 INR: False\n",
            "[22000, 23500, 26000, 21300, 21900, 19800]\n",
            "[22000, 23500, 26000, 19800, 21900, 19800]\n"
          ]
        }
      ]
    },
    {
      "cell_type": "markdown",
      "source": [
        "##Linked List\n",
        "Two main benefit ovean array\n",
        "1. You don't need to pre-allocate space\n",
        "2. Insertion is easier\n",
        "\n",
        "Big O notation for Linked List:\n",
        "1. Insertion/ deleting element at begning = O(1)\n",
        "2. Insertion/ deleting element at the end = O(n)\n",
        "3. Linked List Traversal = O(n)\n",
        "4. Accessing element by value = O(n)"
      ],
      "metadata": {
        "id": "MeriOEgSh3hy"
      }
    },
    {
      "cell_type": "code",
      "source": [
        "from logging import exception\n",
        "class Node:\n",
        "  def __init__(self,data=None, next=None):\n",
        "    self.data=data\n",
        "    self.next = next\n",
        "\n",
        "class LinkedList:\n",
        "  def __init__(self):\n",
        "    self.head = None\n",
        "\n",
        "  def print(self):\n",
        "    if self.head is None:\n",
        "      print(\"Linked List is empty\")\n",
        "      return\n",
        "    itr=self.head\n",
        "    llstr=''\n",
        "    while itr:\n",
        "      llstr += str(itr.data) + ' --> ' if itr.next else str(itr.data)\n",
        "      itr = itr.next\n",
        "    print(llstr)\n",
        "\n",
        "  def get_length(self):\n",
        "    count=0\n",
        "    itr=self.head\n",
        "    while itr:\n",
        "      count=1\n",
        "      itr=itr.next\n",
        "    return count\n",
        "\n",
        "  def insert_at_begining(self, data):\n",
        "    node = Node(data, self.head)\n",
        "    self.head = node\n",
        "\n",
        "  def insert_at_end(self, data):\n",
        "    if self.head is None:\n",
        "      self.head = Node(data, None)\n",
        "      return\n",
        "\n",
        "    itr = self.head\n",
        "    while itr.next:\n",
        "      itr = itr.next\n",
        "    itr.next = Node(data, None)\n",
        "\n",
        "  def insert_at(self, index, data):\n",
        "    if index<0 or index>self.get_length():\n",
        "      raise Exception(\"Invelid Index\")\n",
        "\n",
        "    if index==0:\n",
        "      self.insert_at_begining(data)\n",
        "      return\n",
        "\n",
        "    count=0\n",
        "    itr = self.head\n",
        "    while itr:\n",
        "      if count == index -1:\n",
        "        node = Node(data, itr.next)\n",
        "        itr.next = node\n",
        "        break\n",
        "    itr = itr.next\n",
        "    count +=1\n",
        "\n",
        "  def remove_at(self, index):\n",
        "    if index<0 or index>=self.get_length():\n",
        "      raise Exception(\"Invelid Index\")\n",
        "    if index==0:\n",
        "      self.head = self.head.next\n",
        "      return\n",
        "    count=0\n",
        "    itr = self.head\n",
        "    while itr:\n",
        "      if count == index-1:\n",
        "        itr.next = itr.next.next\n",
        "        break\n",
        "      itr=itr.next\n",
        "      count +=1\n",
        "\n",
        "  def insert_values(self, data_list):\n",
        "    self.head = None\n",
        "    for data in data_list:\n",
        "      self.insert_at_end(data)\n",
        "\n",
        "if __name__ =='__main__':\n",
        "  ll=LinkedList()\n",
        "  ll.insert_values([\"banana\",\"mango\",\"grapes\",\"orange\"])\n",
        "  ll.print()\n",
        "  ll.insert_at(1,\"blueberry\")\n",
        "  ll.print()\n",
        "  print(ll.get_length())\n",
        "  ll.remove_at(0)\n",
        "  ll.print()\n",
        "\n",
        "  ll.insert_values([45,7,12,567,99])\n",
        "  ll.insert_at_end(67)\n",
        "  ll.print()\n"
      ],
      "metadata": {
        "colab": {
          "base_uri": "https://localhost:8080/"
        },
        "id": "ZTnL_w6XhnOZ",
        "outputId": "57265a32-3752-4eac-d9c8-5cfe67b2686b"
      },
      "execution_count": 25,
      "outputs": [
        {
          "output_type": "stream",
          "name": "stdout",
          "text": [
            "banana --> mango --> grapes --> orange\n",
            "banana --> blueberry --> mango --> grapes --> orange\n",
            "1\n",
            "blueberry --> mango --> grapes --> orange\n",
            "45 --> 7 --> 12 --> 567 --> 99 --> 67\n"
          ]
        }
      ]
    },
    {
      "cell_type": "markdown",
      "source": [
        "##Hash table\n",
        "\n"
      ],
      "metadata": {
        "id": "q8AUb9Am2qYF"
      }
    },
    {
      "cell_type": "code",
      "source": [
        "class HashTable:\n",
        "    def __init__(self):\n",
        "      self.MAX=100\n",
        "      self.arr = [None for i in range(self.MAX)]   # here we aare initializing the arr of 100 size using list comprehension\n",
        "\n",
        "    def get_hash(self, key):\n",
        "      h=0\n",
        "      for char in key:\n",
        "        h += ord(char)\n",
        "      return h % self.MAX\n",
        "\n",
        "    def __setitem__(self, key, val):\n",
        "      h=self.get_hash(key)\n",
        "      self.arr[h] = val\n",
        "\n",
        "    def __getitem__(self, key):\n",
        "      h=self.get_hash(key)\n",
        "      return self.arr[h]\n",
        "\n",
        "    def __delitem__(self, key):\n",
        "      h=self.get_hash(key)\n",
        "      self.arr[h] = None\n",
        "\n",
        "\n",
        "t = HashTable()\n",
        "t.get_hash('may 5')\n",
        "# t.arr  # it will print the arr of max size with default value None\n",
        "t['may 5']=652\n",
        "t['may 1']=632\n",
        "t['may 3']=589\n",
        "t['may 8']=612\n",
        "t['may 11']=595\n",
        "\n",
        "print(t['may 3'])\n",
        "print(t['may 4'])\n",
        "del t['may 3']\n",
        "\n",
        "\n",
        "# need to cose to handle Collision In Hash Table"
      ],
      "metadata": {
        "colab": {
          "base_uri": "https://localhost:8080/"
        },
        "id": "UlbGmZHN225h",
        "outputId": "e3ee740f-8079-4cd6-e5b1-cc7378c1ec25"
      },
      "execution_count": 26,
      "outputs": [
        {
          "output_type": "stream",
          "name": "stdout",
          "text": [
            "589\n",
            "None\n"
          ]
        }
      ]
    },
    {
      "cell_type": "markdown",
      "source": [
        "##Stack\n",
        "Stack works on Last In First Out (LIFO)\n",
        "\n",
        "Push/Pop element : O(1)\n",
        "\n",
        "Search element by value: O(n)"
      ],
      "metadata": {
        "id": "u_jlcWhXCxNX"
      }
    },
    {
      "cell_type": "code",
      "source": [
        "# for stack python have already defined calss called collection.deque, same will be used for Queue\n",
        "\n",
        "from collections import deque\n",
        "stack = deque()\n",
        "\n",
        "# dir(stack)  # will show all the methods associated with object stack\n",
        "\n",
        "stack.append(\"क\")\n",
        "stack.append(\"ख\")\n",
        "stack.append(\"ग\")\n",
        "stack.append(\"घ\")\n",
        "stack.append(\"ङ\")\n",
        "stack.append(\"च\")\n",
        "\n",
        "print(stack)\n",
        "stack.pop()"
      ],
      "metadata": {
        "colab": {
          "base_uri": "https://localhost:8080/",
          "height": 54
        },
        "id": "yQy2U8_P32dQ",
        "outputId": "0fcd30ac-6ea8-46ad-8dc4-626bb8a0c5ab"
      },
      "execution_count": 27,
      "outputs": [
        {
          "output_type": "stream",
          "name": "stdout",
          "text": [
            "deque(['क', 'ख', 'ग', 'घ', 'ङ', 'च'])\n"
          ]
        },
        {
          "output_type": "execute_result",
          "data": {
            "text/plain": [
              "'च'"
            ],
            "application/vnd.google.colaboratory.intrinsic+json": {
              "type": "string"
            }
          },
          "metadata": {},
          "execution_count": 27
        }
      ]
    },
    {
      "cell_type": "code",
      "source": [
        "class Stack:\n",
        "  def __init__(self):\n",
        "    self.container = deque()\n",
        "\n",
        "  def push(self,val):\n",
        "      self.container.append(val)\n",
        "\n",
        "  def pop(self):\n",
        "    return self.container.pop()\n",
        "\n",
        "  def peek(self):\n",
        "    return self.container[-1]\n",
        "\n",
        "  def is_empty(self):\n",
        "    return len(self.container)==0\n",
        "\n",
        "  def size(self):\n",
        "    return len(self.container)\n",
        "\n",
        "\n",
        "s = Stack()\n",
        "s.is_empty()\n",
        "s.push(5)\n",
        "s.peek()\n",
        "\n",
        "s.push(67)\n",
        "s.push(32)\n",
        "s.push(128)\n",
        "\n",
        "s.size()"
      ],
      "metadata": {
        "colab": {
          "base_uri": "https://localhost:8080/"
        },
        "id": "Nr2HGpeAFjkv",
        "outputId": "33ce37ae-f65a-471f-cf6d-b945691ce5fe"
      },
      "execution_count": 28,
      "outputs": [
        {
          "output_type": "execute_result",
          "data": {
            "text/plain": [
              "4"
            ]
          },
          "metadata": {},
          "execution_count": 28
        }
      ]
    },
    {
      "cell_type": "code",
      "source": [
        "# Assignment-Stack 1: reverse_string(\"stack follows the Last-In-First-Out\") should return \"tuO-tsriF-nI-tsaL eht swollof kcats\"\n",
        "\n",
        "def recerse_string(str):\n",
        "  stack = Stack()  # we arer still using the Stack class in above code box\n",
        "  for s in str:\n",
        "    stack.push(s)\n",
        "  rStr = ''\n",
        "  while stack.size()!=0:\n",
        "    rStr += stack.pop()\n",
        "  return rStr\n",
        "\n",
        "print(recerse_string(\"stack follows the Last-In-First-Out\"))\n",
        "print(recerse_string(\"I am the king\"))"
      ],
      "metadata": {
        "colab": {
          "base_uri": "https://localhost:8080/"
        },
        "id": "3Vjd1xE6a1M3",
        "outputId": "6c49e24b-7066-43a9-d355-1d09afe18b12"
      },
      "execution_count": 29,
      "outputs": [
        {
          "output_type": "stream",
          "name": "stdout",
          "text": [
            "tuO-tsriF-nI-tsaL eht swollof kcats\n",
            "gnik eht ma I\n"
          ]
        }
      ]
    },
    {
      "cell_type": "code",
      "source": [
        "# Assignment-Stack 2: Using Stack write a function in python that checks if paranthesis in the string are balanced or not. Possible parantheses are \"{}',\"()\" or \"[]\"\n",
        "# 1. ({a+b})   2. ))((a+b}{   3. ((a+b))   4. ))    5. [a+b]*(x+2y)*{gg+kk}\n",
        "\n",
        "\n",
        "def is_match(ch1, ch2):\n",
        "  match_dict = { ')':'(',\n",
        "                '}':'{',\n",
        "                 ']':'['\n",
        "               }\n",
        "  return match_dict[ch1] == ch2\n",
        "\n",
        "def is_balanced(s):\n",
        "  stack = Stack()\n",
        "  for ch in s:\n",
        "    if ch=='(' or ch=='[' or ch=='{':\n",
        "      stack.push(ch)\n",
        "    if ch==')' or ch==']' or ch=='}':\n",
        "      if stack.size() == 0:\n",
        "        return False\n",
        "      elif not is_match(ch,stack.pop()):\n",
        "        return False\n",
        "  return stack.size()==0\n",
        "\n",
        "\n",
        "print(is_balanced(\"({a+b})\"))\n",
        "print(is_balanced(\"))((a+b}{\"))\n",
        "print(is_balanced(\"((a+b))\"))\n",
        "print(is_balanced(\"))\"))\n",
        "print(is_balanced(\"[a+b]*(x+2y)*{gg+kk}\"))"
      ],
      "metadata": {
        "colab": {
          "base_uri": "https://localhost:8080/"
        },
        "id": "wM4osqLFcvhF",
        "outputId": "fd731b4d-d206-4465-ad8c-4b47c4371226"
      },
      "execution_count": 30,
      "outputs": [
        {
          "output_type": "stream",
          "name": "stdout",
          "text": [
            "True\n",
            "False\n",
            "True\n",
            "False\n",
            "True\n"
          ]
        }
      ]
    },
    {
      "cell_type": "markdown",
      "source": [
        "##Queue - Data Structures\n",
        "\n",
        "First In First Out (FIFO)"
      ],
      "metadata": {
        "id": "A557AKfSvrlP"
      }
    },
    {
      "cell_type": "code",
      "source": [
        "from collections import deque\n",
        "\n",
        "class Queue:\n",
        "  def __init__(self):\n",
        "    self.buffer = deque()\n",
        "\n",
        "  def inqueue(self,val):\n",
        "    self.buffer.appendleft(val)\n",
        "\n",
        "  def delqueue(self):\n",
        "    self.buffer.pop()\n",
        "\n",
        "  def is_empty(self):\n",
        "    return len(self.buffer)==0\n",
        "\n",
        "  def size(self):\n",
        "    return len(self.buffer)\n",
        "\n",
        "\n",
        "q = Queue()\n",
        "q.inqueue({\n",
        "    'company': 'RIL',\n",
        "    'timestamp': '21 apr, 10.31 AM',\n",
        "    'price': 2785.25\n",
        "})\n",
        "q.inqueue({\n",
        "    'company': 'RIL',\n",
        "    'timestamp': '21 apr, 10.32 AM',\n",
        "    'price': 2787.65\n",
        "})\n",
        "q.inqueue({\n",
        "    'company': 'RIL',\n",
        "    'timestamp': '21 apr, 10.32 AM',\n",
        "    'price': 2689.45\n",
        "})\n",
        "\n",
        "\n",
        "print(q.size())\n",
        "q.delqueue()\n",
        "print(q.size())"
      ],
      "metadata": {
        "colab": {
          "base_uri": "https://localhost:8080/"
        },
        "id": "s9tfUo2YvyXX",
        "outputId": "649f53f2-9cf2-40b3-b83c-08f2c28f9e30"
      },
      "execution_count": 31,
      "outputs": [
        {
          "output_type": "stream",
          "name": "stdout",
          "text": [
            "3\n",
            "2\n"
          ]
        }
      ]
    },
    {
      "cell_type": "markdown",
      "source": [
        "##Tree (General Tree) - Data Structures\n",
        "1. In Tree structure we have Root Node, Node and Leaf nodes\n"
      ],
      "metadata": {
        "id": "LT9OSe3ibjtX"
      }
    },
    {
      "cell_type": "code",
      "source": [
        "class TreeNode:\n",
        "  def __init__(self, data):\n",
        "    self.data = data\n",
        "    self.children = []\n",
        "    self.parent = None\n",
        "\n",
        "  def add_child(self, child):\n",
        "    child.parent = self\n",
        "    self.children.append(child)\n",
        "\n",
        "  def get_level(self):\n",
        "    level=0\n",
        "    p=self.parent\n",
        "    while p:\n",
        "      level +=1\n",
        "      p = p.parent\n",
        "    return level\n",
        "\n",
        "  def print_tree(self):\n",
        "    space = ' '*self.get_level()*3\n",
        "    prefix = space + '|--' if self.parent else \"\"   # Ternary Operator in Python ; Syntax: true_value if condition else false_value\n",
        "    print(prefix + self.data)\n",
        "    if self.children:\n",
        "      for child in self.children:\n",
        "        child.print_tree()\n",
        "\n",
        "\n",
        "def build_elec_tree():\n",
        "  root = TreeNode(\"Electronics\")\n",
        "\n",
        "  laptop = TreeNode(\"Laptop\")\n",
        "  laptop.add_child(TreeNode(\"Mac\"))\n",
        "  laptop.add_child(TreeNode(\"Surface\"))\n",
        "  laptop.add_child(TreeNode(\"Thinkpad\"))\n",
        "\n",
        "  cellphone = TreeNode(\"Cell Phone\")\n",
        "  cellphone.add_child(TreeNode(\"iPhone\"))\n",
        "  cellphone.add_child(TreeNode(\"Google Pixel\"))\n",
        "  cellphone.add_child(TreeNode(\"Vivo\"))\n",
        "\n",
        "  tv = TreeNode(\"TV\")\n",
        "  tv.add_child(TreeNode(\"Samsung\"))\n",
        "  tv.add_child(TreeNode(\"LG\"))\n",
        "\n",
        "  root.add_child(laptop)\n",
        "  root.add_child(cellphone)\n",
        "  root.add_child(tv)\n",
        "\n",
        "  root.print_tree()\n",
        "  #print(root.get_level())\n",
        "  return root\n",
        "\n",
        "\n",
        "\n",
        "if __name__ == '__main__':\n",
        "  root =  build_elec_tree()\n"
      ],
      "metadata": {
        "colab": {
          "base_uri": "https://localhost:8080/"
        },
        "id": "AV-RMIk481hR",
        "outputId": "57b56afd-b325-4bb1-ae3a-b837627bdb53"
      },
      "execution_count": 32,
      "outputs": [
        {
          "output_type": "stream",
          "name": "stdout",
          "text": [
            "Electronics\n",
            "   |--Laptop\n",
            "      |--Mac\n",
            "      |--Surface\n",
            "      |--Thinkpad\n",
            "   |--Cell Phone\n",
            "      |--iPhone\n",
            "      |--Google Pixel\n",
            "      |--Vivo\n",
            "   |--TV\n",
            "      |--Samsung\n",
            "      |--LG\n"
          ]
        }
      ]
    },
    {
      "cell_type": "code",
      "source": [
        "# Assignment-Tree 1: For management hierarchy of a company, built a class that takes name and designation in data part of TreeNode class and print_tree\n",
        "#                    function such that it can print either name tree, designation tree or both.\n",
        "\n",
        "class TreeNode_Hrc:\n",
        "  def __init__(self, name, desig):\n",
        "    self.name = name\n",
        "    self.designation = desig\n",
        "    self.children = []\n",
        "    self.parent = None\n",
        "\n",
        "  def add_child(self, child):\n",
        "    child.parent = self\n",
        "    self.children.append(child)\n",
        "\n",
        "  def get_level(self):\n",
        "    level=0\n",
        "    p=self.parent\n",
        "    while p:\n",
        "      level +=1\n",
        "      p = p.parent\n",
        "    return level\n",
        "\n",
        "  def print_tree(self,cat):\n",
        "    space = ' '*self.get_level()*3\n",
        "    prefix = space + '|--' if self.parent else \"\"   # Ternary Operator in Python ; Syntax: true_value if condition else false_value\n",
        "    if cat=='name':\n",
        "      print(prefix + self.name)\n",
        "    elif cat=='designation':\n",
        "      print(prefix + self.designation)\n",
        "    elif cat=='both':\n",
        "      print(prefix + self.name + ' (' + self.designation + ')')\n",
        "    else:\n",
        "      print('Please prvide correct category: name, designation or both')\n",
        "\n",
        "    if self.children:\n",
        "      for child in self.children:\n",
        "        child.print_tree(cat)\n",
        "\n",
        "\n",
        "if __name__ == '__main__':\n",
        "\n",
        "  root = TreeNode_Hrc(\"Sunil\",\"SVP\")\n",
        "\n",
        "  vp1 = TreeNode_Hrc(\"Sanjay\",\"VP\")\n",
        "  vp1.add_child(TreeNode_Hrc(\"Prakhar\",\"Manager\"))\n",
        "  vp1.add_child(TreeNode_Hrc(\"Manoj\",\"Sr. Manager\"))\n",
        "\n",
        "  vp2 = TreeNode_Hrc(\"Girish\",'VP')\n",
        "  vp2.add_child(TreeNode_Hrc(\"Chander\",\"Manager\"))\n",
        "  vp2.add_child(TreeNode_Hrc(\"Dinesh\",\"Sr. Manager\"))\n",
        "  vp2.add_child(TreeNode_Hrc(\"Rajesh\",\"Manager\"))\n",
        "\n",
        "  pa = TreeNode_Hrc(\"Anna\",\"Assistance\")\n",
        "\n",
        "  root.add_child(vp1)\n",
        "  root.add_child(vp2)\n",
        "  root.add_child(pa)\n",
        "\n",
        "  root.print_tree(\"name\")\n",
        "  print(\"\\n\")\n",
        "  root.print_tree(\"designation\")\n",
        "  print(\"\\n\")\n",
        "  root.print_tree(\"both\")"
      ],
      "metadata": {
        "colab": {
          "base_uri": "https://localhost:8080/"
        },
        "id": "xR8ljcqilbrq",
        "outputId": "75408b5d-cd38-4b24-913f-a736a4eb81e0"
      },
      "execution_count": 33,
      "outputs": [
        {
          "output_type": "stream",
          "name": "stdout",
          "text": [
            "Sunil\n",
            "   |--Sanjay\n",
            "      |--Prakhar\n",
            "      |--Manoj\n",
            "   |--Girish\n",
            "      |--Chander\n",
            "      |--Dinesh\n",
            "      |--Rajesh\n",
            "   |--Anna\n",
            "\n",
            "\n",
            "SVP\n",
            "   |--VP\n",
            "      |--Manager\n",
            "      |--Sr. Manager\n",
            "   |--VP\n",
            "      |--Manager\n",
            "      |--Sr. Manager\n",
            "      |--Manager\n",
            "   |--Assistance\n",
            "\n",
            "\n",
            "Sunil (SVP)\n",
            "   |--Sanjay (VP)\n",
            "      |--Prakhar (Manager)\n",
            "      |--Manoj (Sr. Manager)\n",
            "   |--Girish (VP)\n",
            "      |--Chander (Manager)\n",
            "      |--Dinesh (Sr. Manager)\n",
            "      |--Rajesh (Manager)\n",
            "   |--Anna (Assistance)\n"
          ]
        }
      ]
    },
    {
      "cell_type": "code",
      "source": [
        "# Assignment-Tree 2: Build a location tree using TreeNode class where print_tree method to take tree level as input. And that should print tree only upto that level\n",
        "\n",
        "class TreeNode_Loc:\n",
        "  def __init__(self, name, cat):\n",
        "    self.name = name\n",
        "    self.category = cat\n",
        "    self.children = []\n",
        "    self.parent = None\n",
        "\n",
        "  def add_child(self, child):\n",
        "    child.parent = self\n",
        "    self.children.append(child)\n",
        "\n",
        "  def get_level(self):\n",
        "    level=0\n",
        "    p=self.parent\n",
        "    while p:\n",
        "      level +=1\n",
        "      p = p.parent\n",
        "    return level\n",
        "\n",
        "  def print_tree(self,level):\n",
        "    if self.get_level() > level:\n",
        "      return\n",
        "    space = ' '*self.get_level()*3\n",
        "    prefix = space + '|--' if self.parent else \"\"   # Ternary Operator in Python ; Syntax: true_value if condition else false_value\n",
        "    print(prefix + self.name + ' (' + self.category + ')')\n",
        "\n",
        "    if self.children:\n",
        "      for child in self.children:\n",
        "        child.print_tree(level)\n",
        "\n",
        "if __name__ == '__main__':\n",
        "\n",
        "  root = TreeNode_Loc(\"Global\",\"Global\")\n",
        "\n",
        "  c1 = TreeNode_Loc(\"India\",\"Country\")\n",
        "  s1= TreeNode_Loc(\"Rajasthan\",\"State\")\n",
        "  s1.add_child(TreeNode_Loc(\"Jaipur\",\"Capital City\"))\n",
        "  s1.add_child(TreeNode_Loc(\"Kota\",\"City\"))\n",
        "  c1.add_child(s1)\n",
        "\n",
        "  s2= TreeNode_Loc(\"Gujrat\",\"State\")\n",
        "  s2.add_child(TreeNode_Loc(\"Baroda\",\"City\"))\n",
        "  s2.add_child(TreeNode_Loc(\"Surat\",\"City\"))\n",
        "  c1.add_child(s2)\n",
        "\n",
        "  c2 = TreeNode_Loc(\"Canada\",\"Country\")\n",
        "  s3= TreeNode_Loc(\"Ontario\",\"State\")\n",
        "  s3.add_child(TreeNode_Loc(\"Ottawa\",\"City\"))\n",
        "  s3.add_child(TreeNode_Loc(\"Toronto\",\"Capital City\"))\n",
        "  c2.add_child(s3)\n",
        "\n",
        "  s4= TreeNode_Loc(\"Alberta\",\"State\")\n",
        "  s4.add_child(TreeNode_Loc(\"Edmonton\",\"Capital City\"))\n",
        "  s4.add_child(TreeNode_Loc(\"Calgary\",\"City\"))\n",
        "  c2.add_child(s4)\n",
        "\n",
        "  root.add_child(c1)\n",
        "  root.add_child(c2)\n",
        "\n",
        "  root.print_tree(1)\n",
        "  print(\"\\n\")\n",
        "  root.print_tree(2)\n",
        "  print(\"\\n\")\n",
        "  root.print_tree(4)\n"
      ],
      "metadata": {
        "colab": {
          "base_uri": "https://localhost:8080/"
        },
        "id": "8BYvQQ_C-7Zs",
        "outputId": "b6b88d0d-c8d5-4dee-df66-1298d0285903"
      },
      "execution_count": 34,
      "outputs": [
        {
          "output_type": "stream",
          "name": "stdout",
          "text": [
            "Global (Global)\n",
            "   |--India (Country)\n",
            "   |--Canada (Country)\n",
            "\n",
            "\n",
            "Global (Global)\n",
            "   |--India (Country)\n",
            "      |--Rajasthan (State)\n",
            "      |--Gujrat (State)\n",
            "   |--Canada (Country)\n",
            "      |--Ontario (State)\n",
            "      |--Alberta (State)\n",
            "\n",
            "\n",
            "Global (Global)\n",
            "   |--India (Country)\n",
            "      |--Rajasthan (State)\n",
            "         |--Jaipur (Capital City)\n",
            "         |--Kota (City)\n",
            "      |--Gujrat (State)\n",
            "         |--Baroda (City)\n",
            "         |--Surat (City)\n",
            "   |--Canada (Country)\n",
            "      |--Ontario (State)\n",
            "         |--Ottawa (City)\n",
            "         |--Toronto (Capital City)\n",
            "      |--Alberta (State)\n",
            "         |--Edmonton (Capital City)\n",
            "         |--Calgary (City)\n"
          ]
        }
      ]
    },
    {
      "cell_type": "markdown",
      "source": [
        "##Binary Tree | BST | Binary Search Tree\n",
        "\n",
        "1. Binary Tree has at most 2 child node\n",
        "2. Binary Search Tree (BST) is a special kind of binary tree which have some order, like all the left node of parient tree are smaller then the parient tree ans right are grater. Another property is the number is not duplicate.\n",
        " *   BST the search complexity is O(log n)\n",
        " *   BST the Insertion complexity is O(log n)\n",
        "\n",
        "\n",
        "There are three traversal in BST:\n",
        "1. Inorder Traversal: At first traverse left subtree then visit the root and then traverse the right subtree.\n",
        "2. Preorder Traversal: At first visit the root then traverse left subtree and then traverse the right subtree.\n",
        "3. Postorder Traversal: At first traverse left subtree then traverse the right subtree and then visit the root."
      ],
      "metadata": {
        "id": "bXK2aAVBH8Ne"
      }
    },
    {
      "cell_type": "code",
      "source": [
        "class BinarySearchTree():\n",
        "  def __init__(self, data):\n",
        "    self.data = data\n",
        "    self.left = None\n",
        "    self.right = None\n",
        "\n",
        "  def add_child(self, data):\n",
        "    if data == self.data:\n",
        "      return\n",
        "\n",
        "    if data < self.data:\n",
        "      #add the data to left node\n",
        "      if self.left:\n",
        "        self.left.add_child(data)\n",
        "      else:\n",
        "        self.left = BinarySearchTree(data)\n",
        "    else:\n",
        "      if self.right:\n",
        "        self.right.add_child(data)\n",
        "      else:\n",
        "        self.right = BinarySearchTree(data)\n",
        "\n",
        "  def search(self, val):\n",
        "    if self.data == val:\n",
        "      return True\n",
        "\n",
        "    if val < self.data:\n",
        "      if self.left:\n",
        "        return self.left.search(val)\n",
        "      else:\n",
        "        return False\n",
        "\n",
        "    if val > self.data:\n",
        "      if self.right:\n",
        "        return self.right.search(val)\n",
        "      else:\n",
        "        return False\n",
        "\n",
        "  # Part of Assignment\n",
        "  def pre_order_traversal(self):\n",
        "    BTS_List=[self.data]\n",
        "    # Visit Left Tree\n",
        "    if self.left:\n",
        "      BTS_List +=self.left.pre_order_traversal()\n",
        "    # visit right node\n",
        "    if self.right:\n",
        "      BTS_List +=self.right.pre_order_traversal()\n",
        "\n",
        "    return BTS_List\n",
        "\n",
        "  # Part of Assignment\n",
        "  def post_order_traversal(self):\n",
        "    BTS_List=[]\n",
        "    # Visit Left Tree\n",
        "    if self.left:\n",
        "      BTS_List +=self.left.post_order_traversal()\n",
        "    # visit right node\n",
        "    if self.right:\n",
        "      BTS_List +=self.right.post_order_traversal()\n",
        "    # visit root node\n",
        "    BTS_List.append(self.data)\n",
        "\n",
        "    return BTS_List\n",
        "\n",
        "  def in_order_traversal(self):\n",
        "    BTS_List=[]\n",
        "    # Visit Left Tree\n",
        "    if self.left:\n",
        "      BTS_List +=self.left.in_order_traversal()\n",
        "\n",
        "    # visit root node\n",
        "    BTS_List.append(self.data)\n",
        "\n",
        "    # visit right node\n",
        "    if self.right:\n",
        "      BTS_List +=self.right.in_order_traversal()\n",
        "\n",
        "    return BTS_List\n",
        "\n",
        "  # Part of Assignment\n",
        "  def find_min(self):\n",
        "    if self.left:\n",
        "      return self.left.find_min()\n",
        "    else:\n",
        "      return self.data\n",
        "\n",
        "  # Part of Assignment\n",
        "  def find_max(self):\n",
        "    if self.right:\n",
        "      return self.right.find_max()\n",
        "    else:\n",
        "      return self.data\n",
        "\n",
        "  # Part of Assignment\n",
        "  def calculate_sum(self):\n",
        "    sum_left = self.left.calculate_sum() if self.left else 0\n",
        "    sum_righr = self.right.calculate_sum() if self.right else 0\n",
        "    return self.data + sum_left + sum_righr\n",
        "\n",
        "  def delete(self,val):\n",
        "    if val < self.data:\n",
        "      if self.left:\n",
        "        self.left = self.left.delete(val)\n",
        "    elif val > self.data:\n",
        "      if self.right:\n",
        "        self.right = self.right.delete(val)\n",
        "    else:\n",
        "      if self.left is None and self.right is None:\n",
        "        return None\n",
        "      if self.left is None:\n",
        "        return self.right\n",
        "      if self.right is None:\n",
        "        return self.left\n",
        "\n",
        "      min_val = self.right.find_min()\n",
        "      self.data = min_val\n",
        "      self.right = self.right.delete(min_val)\n",
        "\n",
        "    return self\n",
        "\n",
        "\n",
        "#-------------------------------------------- class ends -----------------\n",
        "\n",
        "\n",
        "def build_tree(elements):\n",
        "\n",
        "  print(\"Building tree with elements:\",elements)\n",
        "  root = BinarySearchTree(elements[0])\n",
        "\n",
        "  for i in range(1,len(elements)):\n",
        "      root.add_child(elements[i])\n",
        "\n",
        "  return root\n",
        "\n",
        "\n",
        "if __name__ == '__main__':\n",
        "  elements_BTS = build_tree([49, 20, 23, 34, 6, 29, 35])\n",
        "  print(elements_BTS.in_order_traversal())\n",
        "  print(elements_BTS.search(24))\n",
        "\n",
        "  top_10_Population = build_tree(['Mumbai', 'Delhi', 'Bangalore', 'Hyderabad', 'Ahmedabad', 'Chennai', 'Kolkata', 'Surat', 'Pune', 'Jaipur'])\n",
        "  print(\"Bhipal is in the list? \", top_10_Population.search(\"Bhipal\"))\n",
        "  print(\"Kolkata is in the list? \", top_10_Population.search(\"Kolkata\"))\n",
        "\n",
        "  print(f\"sum of element are {elements_BTS.calculate_sum()}\")\n",
        "  print(f\"Minimum of element are {elements_BTS.find_min()}\")\n",
        "  print(f\"Maximum of element are {elements_BTS.find_max()}\")\n",
        "  print(f\"Post order traversal of element are {elements_BTS.post_order_traversal()}\")\n",
        "  print(f\"Pre order traversal of element are {elements_BTS.pre_order_traversal()}\")\n",
        "\n",
        "  numbers_tree = build_tree([17, 4, 1, 20, 9, 23, 18, 34])\n",
        "  numbers_tree.delete(17)\n",
        "  print(\"After deleting 17 \",numbers_tree.in_order_traversal())\n",
        "\n",
        "\n",
        "\n",
        "\n",
        "  # Assignment-BST 1: Add following methods to BinarySearchTree class --- Already available in above class\n",
        "  # 1. find_min(): finds minimum element in entire binary tree\n",
        "  # 2. find_max(): finds maximum element in entire binary tree\n",
        "  # 3. calculate_sum(): calcualtes sum of all elements\n",
        "  # 4. post_order_traversal(): performs post order traversal of a binary tree\n",
        "  # 5. pre_order_traversal(): perofrms pre order traversal of a binary tree\n"
      ],
      "metadata": {
        "colab": {
          "base_uri": "https://localhost:8080/"
        },
        "id": "4u7btsYpH-ue",
        "outputId": "980577c2-35d6-4601-973a-dff29ed5d299"
      },
      "execution_count": 35,
      "outputs": [
        {
          "output_type": "stream",
          "name": "stdout",
          "text": [
            "Building tree with elements: [49, 20, 23, 34, 6, 29, 35]\n",
            "[6, 20, 23, 29, 34, 35, 49]\n",
            "False\n",
            "Building tree with elements: ['Mumbai', 'Delhi', 'Bangalore', 'Hyderabad', 'Ahmedabad', 'Chennai', 'Kolkata', 'Surat', 'Pune', 'Jaipur']\n",
            "Bhipal is in the list?  False\n",
            "Kolkata is in the list?  True\n",
            "sum of element are 196\n",
            "Minimum of element are 6\n",
            "Maximum of element are 49\n",
            "Post order traversal of element are [6, 29, 35, 34, 23, 20, 49]\n",
            "Pre order traversal of element are [49, 20, 6, 23, 34, 29, 35]\n",
            "Building tree with elements: [17, 4, 1, 20, 9, 23, 18, 34]\n",
            "After deleting 17  [1, 4, 9, 18, 20, 23, 34]\n"
          ]
        }
      ]
    },
    {
      "cell_type": "markdown",
      "source": [
        "##Graph - Data Structures\n",
        "In Graph individual entities are called as node and the connections between is called as edge. In some cases edge can have weight and that is called as weigted Graph.\n",
        "\n",
        "Utility of graphs is find shortest distance, Flight routes, Recommendations on LinkedIn\n"
      ],
      "metadata": {
        "id": "PCXNG-pQI4uh"
      }
    },
    {
      "cell_type": "code",
      "source": [
        "class Graph:\n",
        "    def __init__(self, edges):\n",
        "        self.edges = edges\n",
        "        self.graph_dict = {}\n",
        "        for start, end in self.edges:\n",
        "            if start in self.graph_dict:\n",
        "                self.graph_dict[start].append(end)\n",
        "            else:\n",
        "                self.graph_dict[start] = [end]\n",
        "\n",
        "        print(\"Graph Dict: \", self.graph_dict)\n",
        "\n",
        "    def get_path(self, start, end, path=[]):\n",
        "        path = path + [start]\n",
        "\n",
        "        if start == end:\n",
        "            return [path]\n",
        "        if start not in self.graph_dict:\n",
        "            return []\n",
        "\n",
        "        paths=[]\n",
        "        for node in self.graph_dict[start]:\n",
        "            if node not in path:\n",
        "                new_path = self.get_path(node, end, path)\n",
        "                for p in new_path:\n",
        "                    paths.append(p)\n",
        "        return paths\n",
        "\n",
        "    def get_short_path(self,start, end, path=[]):\n",
        "        path = path + [start]\n",
        "\n",
        "        if start == end:\n",
        "            return path\n",
        "        if start not in self.graph_dict:\n",
        "            return None\n",
        "\n",
        "        short_path = None\n",
        "        for node in self.graph_dict[start]:\n",
        "            if node not in path:\n",
        "                sp = self.get_short_path(node, end, path)\n",
        "                if sp:\n",
        "                    if short_path is None or len(sp)<len(short_path):\n",
        "                        short_path = sp\n",
        "\n",
        "        return short_path\n",
        "\n",
        "if __name__ == '__main__':\n",
        "    routes = [\n",
        "        (\"Mumbai\", \"Paris\"),\n",
        "        (\"Mumbai\", \"Dubai\"),\n",
        "        (\"Paris\", \"Dubai\"),\n",
        "        (\"Paris\", \"New York\"),\n",
        "        (\"Dubai\", \"New York\"),\n",
        "        (\"New York\", \"Toronto\"),\n",
        "    ]\n",
        "\n",
        "    route_graph = Graph(routes)\n",
        "\n",
        "    start=\"Mumbai\"\n",
        "    end = \"New York\"\n",
        "    print(f\"All Path between {start} and {end} : \", route_graph.get_path(start,end))\n",
        "    print(f\"Shortest Path between {start} and {end} : \", route_graph.get_short_path(start, end))\n",
        "\n",
        "    india_routes = [\n",
        "        (\"Mumbai\", \"Pune\"),\n",
        "        (\"Mumbai\", \"Surat\"),\n",
        "        (\"Surat\", \"Bangaluru\"),\n",
        "        (\"Pune\", \"Hyderabad\"),\n",
        "        (\"Pune\", \"Mysuru\"),\n",
        "        (\"Hyderabad\", \"Bangaluru\"),\n",
        "        (\"Hyderabad\", \"Chennai\"),\n",
        "        (\"Mysuru\", \"Bangaluru\"),\n",
        "        (\"Chennai\", \"Bangaluru\")\n",
        "    ]\n",
        "\n",
        "    route_graph = Graph(india_routes)\n",
        "\n",
        "    start = \"Mumbai\"\n",
        "    end = \"Bangaluru\"\n",
        "    print(f\"All Path between {start} and {end} : \", route_graph.get_path(start, end))\n",
        "    print(f\"Shortest Path between {start} and {end} : \", route_graph.get_short_path(start, end))\n"
      ],
      "metadata": {
        "id": "WiOukN3hzPV8",
        "colab": {
          "base_uri": "https://localhost:8080/"
        },
        "outputId": "b475d129-ad55-438a-bc62-d07d0acdbbef"
      },
      "execution_count": 36,
      "outputs": [
        {
          "output_type": "stream",
          "name": "stdout",
          "text": [
            "Graph Dict:  {'Mumbai': ['Paris', 'Dubai'], 'Paris': ['Dubai', 'New York'], 'Dubai': ['New York'], 'New York': ['Toronto']}\n",
            "All Path between Mumbai and New York :  [['Mumbai', 'Paris', 'Dubai', 'New York'], ['Mumbai', 'Paris', 'New York'], ['Mumbai', 'Dubai', 'New York']]\n",
            "Shortest Path between Mumbai and New York :  ['Mumbai', 'Paris', 'New York']\n",
            "Graph Dict:  {'Mumbai': ['Pune', 'Surat'], 'Surat': ['Bangaluru'], 'Pune': ['Hyderabad', 'Mysuru'], 'Hyderabad': ['Bangaluru', 'Chennai'], 'Mysuru': ['Bangaluru'], 'Chennai': ['Bangaluru']}\n",
            "All Path between Mumbai and Bangaluru :  [['Mumbai', 'Pune', 'Hyderabad', 'Bangaluru'], ['Mumbai', 'Pune', 'Hyderabad', 'Chennai', 'Bangaluru'], ['Mumbai', 'Pune', 'Mysuru', 'Bangaluru'], ['Mumbai', 'Surat', 'Bangaluru']]\n",
            "Shortest Path between Mumbai and Bangaluru :  ['Mumbai', 'Surat', 'Bangaluru']\n"
          ]
        }
      ]
    }
  ]
}